{
 "cells": [
  {
   "cell_type": "code",
   "execution_count": 34,
   "metadata": {},
   "outputs": [],
   "source": [
    "import numpy as np\n",
    "import pandas as pd"
   ]
  },
  {
   "cell_type": "code",
   "execution_count": 35,
   "metadata": {},
   "outputs": [],
   "source": [
    "data=pd.read_csv('iris.csv')"
   ]
  },
  {
   "cell_type": "code",
   "execution_count": 36,
   "metadata": {},
   "outputs": [
    {
     "name": "stdout",
     "output_type": "stream",
     "text": [
      "   sepallength  sepalwidth  petallength  petalwidth        class\n",
      "0          5.1         3.5          1.4         0.2  Iris-setosa\n",
      "1          4.9         3.0          1.4         0.2  Iris-setosa\n",
      "2          4.7         3.2          1.3         0.2  Iris-setosa\n",
      "3          4.6         3.1          1.5         0.2  Iris-setosa\n",
      "4          5.0         3.6          1.4         0.2  Iris-setosa\n",
      "150\n"
     ]
    }
   ],
   "source": [
    "print(data.head())\n",
    "print(len(data))"
   ]
  },
  {
   "cell_type": "code",
   "execution_count": 37,
   "metadata": {},
   "outputs": [
    {
     "data": {
      "text/plain": [
       "'Iris-versicolor'"
      ]
     },
     "execution_count": 37,
     "metadata": {},
     "output_type": "execute_result"
    }
   ],
   "source": [
    "data['class'][70]"
   ]
  },
  {
   "cell_type": "code",
   "execution_count": 38,
   "metadata": {},
   "outputs": [
    {
     "name": "stderr",
     "output_type": "stream",
     "text": [
      "C:\\ProgramData\\Anaconda3\\lib\\site-packages\\ipykernel_launcher.py:4: SettingWithCopyWarning: \n",
      "A value is trying to be set on a copy of a slice from a DataFrame\n",
      "\n",
      "See the caveats in the documentation: http://pandas.pydata.org/pandas-docs/stable/indexing.html#indexing-view-versus-copy\n",
      "  after removing the cwd from sys.path.\n",
      "C:\\ProgramData\\Anaconda3\\lib\\site-packages\\ipykernel_launcher.py:6: SettingWithCopyWarning: \n",
      "A value is trying to be set on a copy of a slice from a DataFrame\n",
      "\n",
      "See the caveats in the documentation: http://pandas.pydata.org/pandas-docs/stable/indexing.html#indexing-view-versus-copy\n",
      "  \n",
      "C:\\ProgramData\\Anaconda3\\lib\\site-packages\\ipykernel_launcher.py:8: SettingWithCopyWarning: \n",
      "A value is trying to be set on a copy of a slice from a DataFrame\n",
      "\n",
      "See the caveats in the documentation: http://pandas.pydata.org/pandas-docs/stable/indexing.html#indexing-view-versus-copy\n",
      "  \n"
     ]
    }
   ],
   "source": [
    "# Preprocessing\n",
    "for i in range(len(data)):\n",
    "    if data['class'][i]== 'Iris-setosa':\n",
    "       data['class'][i]=int(0)\n",
    "    elif data['class'][i]=='Iris-versicolor':\n",
    "       data['class'][i]=int(1)\n",
    "    else:\n",
    "      data['class'][i]=int(2)\n",
    "        "
   ]
  },
  {
   "cell_type": "code",
   "execution_count": 106,
   "metadata": {},
   "outputs": [
    {
     "data": {
      "text/html": [
       "<div>\n",
       "<style scoped>\n",
       "    .dataframe tbody tr th:only-of-type {\n",
       "        vertical-align: middle;\n",
       "    }\n",
       "\n",
       "    .dataframe tbody tr th {\n",
       "        vertical-align: top;\n",
       "    }\n",
       "\n",
       "    .dataframe thead th {\n",
       "        text-align: right;\n",
       "    }\n",
       "</style>\n",
       "<table border=\"1\" class=\"dataframe\">\n",
       "  <thead>\n",
       "    <tr style=\"text-align: right;\">\n",
       "      <th></th>\n",
       "      <th>sepallength</th>\n",
       "      <th>sepalwidth</th>\n",
       "      <th>petallength</th>\n",
       "      <th>petalwidth</th>\n",
       "      <th>class</th>\n",
       "    </tr>\n",
       "  </thead>\n",
       "  <tbody>\n",
       "    <tr>\n",
       "      <th>50</th>\n",
       "      <td>7.0</td>\n",
       "      <td>3.2</td>\n",
       "      <td>4.7</td>\n",
       "      <td>1.4</td>\n",
       "      <td>1</td>\n",
       "    </tr>\n",
       "    <tr>\n",
       "      <th>51</th>\n",
       "      <td>6.4</td>\n",
       "      <td>3.2</td>\n",
       "      <td>4.5</td>\n",
       "      <td>1.5</td>\n",
       "      <td>1</td>\n",
       "    </tr>\n",
       "    <tr>\n",
       "      <th>52</th>\n",
       "      <td>6.9</td>\n",
       "      <td>3.1</td>\n",
       "      <td>4.9</td>\n",
       "      <td>1.5</td>\n",
       "      <td>1</td>\n",
       "    </tr>\n",
       "    <tr>\n",
       "      <th>53</th>\n",
       "      <td>5.5</td>\n",
       "      <td>2.3</td>\n",
       "      <td>4.0</td>\n",
       "      <td>1.3</td>\n",
       "      <td>1</td>\n",
       "    </tr>\n",
       "    <tr>\n",
       "      <th>54</th>\n",
       "      <td>6.5</td>\n",
       "      <td>2.8</td>\n",
       "      <td>4.6</td>\n",
       "      <td>1.5</td>\n",
       "      <td>1</td>\n",
       "    </tr>\n",
       "    <tr>\n",
       "      <th>55</th>\n",
       "      <td>5.7</td>\n",
       "      <td>2.8</td>\n",
       "      <td>4.5</td>\n",
       "      <td>1.3</td>\n",
       "      <td>1</td>\n",
       "    </tr>\n",
       "    <tr>\n",
       "      <th>56</th>\n",
       "      <td>6.3</td>\n",
       "      <td>3.3</td>\n",
       "      <td>4.7</td>\n",
       "      <td>1.6</td>\n",
       "      <td>1</td>\n",
       "    </tr>\n",
       "    <tr>\n",
       "      <th>57</th>\n",
       "      <td>4.9</td>\n",
       "      <td>2.4</td>\n",
       "      <td>3.3</td>\n",
       "      <td>1.0</td>\n",
       "      <td>1</td>\n",
       "    </tr>\n",
       "    <tr>\n",
       "      <th>58</th>\n",
       "      <td>6.6</td>\n",
       "      <td>2.9</td>\n",
       "      <td>4.6</td>\n",
       "      <td>1.3</td>\n",
       "      <td>1</td>\n",
       "    </tr>\n",
       "    <tr>\n",
       "      <th>59</th>\n",
       "      <td>5.2</td>\n",
       "      <td>2.7</td>\n",
       "      <td>3.9</td>\n",
       "      <td>1.4</td>\n",
       "      <td>1</td>\n",
       "    </tr>\n",
       "    <tr>\n",
       "      <th>60</th>\n",
       "      <td>5.0</td>\n",
       "      <td>2.0</td>\n",
       "      <td>3.5</td>\n",
       "      <td>1.0</td>\n",
       "      <td>1</td>\n",
       "    </tr>\n",
       "    <tr>\n",
       "      <th>61</th>\n",
       "      <td>5.9</td>\n",
       "      <td>3.0</td>\n",
       "      <td>4.2</td>\n",
       "      <td>1.5</td>\n",
       "      <td>1</td>\n",
       "    </tr>\n",
       "    <tr>\n",
       "      <th>62</th>\n",
       "      <td>6.0</td>\n",
       "      <td>2.2</td>\n",
       "      <td>4.0</td>\n",
       "      <td>1.0</td>\n",
       "      <td>1</td>\n",
       "    </tr>\n",
       "    <tr>\n",
       "      <th>63</th>\n",
       "      <td>6.1</td>\n",
       "      <td>2.9</td>\n",
       "      <td>4.7</td>\n",
       "      <td>1.4</td>\n",
       "      <td>1</td>\n",
       "    </tr>\n",
       "    <tr>\n",
       "      <th>64</th>\n",
       "      <td>5.6</td>\n",
       "      <td>2.9</td>\n",
       "      <td>3.6</td>\n",
       "      <td>1.3</td>\n",
       "      <td>1</td>\n",
       "    </tr>\n",
       "    <tr>\n",
       "      <th>65</th>\n",
       "      <td>6.7</td>\n",
       "      <td>3.1</td>\n",
       "      <td>4.4</td>\n",
       "      <td>1.4</td>\n",
       "      <td>1</td>\n",
       "    </tr>\n",
       "    <tr>\n",
       "      <th>66</th>\n",
       "      <td>5.6</td>\n",
       "      <td>3.0</td>\n",
       "      <td>4.5</td>\n",
       "      <td>1.5</td>\n",
       "      <td>1</td>\n",
       "    </tr>\n",
       "    <tr>\n",
       "      <th>67</th>\n",
       "      <td>5.8</td>\n",
       "      <td>2.7</td>\n",
       "      <td>4.1</td>\n",
       "      <td>1.0</td>\n",
       "      <td>1</td>\n",
       "    </tr>\n",
       "    <tr>\n",
       "      <th>68</th>\n",
       "      <td>6.2</td>\n",
       "      <td>2.2</td>\n",
       "      <td>4.5</td>\n",
       "      <td>1.5</td>\n",
       "      <td>1</td>\n",
       "    </tr>\n",
       "    <tr>\n",
       "      <th>69</th>\n",
       "      <td>5.6</td>\n",
       "      <td>2.5</td>\n",
       "      <td>3.9</td>\n",
       "      <td>1.1</td>\n",
       "      <td>1</td>\n",
       "    </tr>\n",
       "  </tbody>\n",
       "</table>\n",
       "</div>"
      ],
      "text/plain": [
       "    sepallength  sepalwidth  petallength  petalwidth class\n",
       "50          7.0         3.2          4.7         1.4     1\n",
       "51          6.4         3.2          4.5         1.5     1\n",
       "52          6.9         3.1          4.9         1.5     1\n",
       "53          5.5         2.3          4.0         1.3     1\n",
       "54          6.5         2.8          4.6         1.5     1\n",
       "55          5.7         2.8          4.5         1.3     1\n",
       "56          6.3         3.3          4.7         1.6     1\n",
       "57          4.9         2.4          3.3         1.0     1\n",
       "58          6.6         2.9          4.6         1.3     1\n",
       "59          5.2         2.7          3.9         1.4     1\n",
       "60          5.0         2.0          3.5         1.0     1\n",
       "61          5.9         3.0          4.2         1.5     1\n",
       "62          6.0         2.2          4.0         1.0     1\n",
       "63          6.1         2.9          4.7         1.4     1\n",
       "64          5.6         2.9          3.6         1.3     1\n",
       "65          6.7         3.1          4.4         1.4     1\n",
       "66          5.6         3.0          4.5         1.5     1\n",
       "67          5.8         2.7          4.1         1.0     1\n",
       "68          6.2         2.2          4.5         1.5     1\n",
       "69          5.6         2.5          3.9         1.1     1"
      ]
     },
     "execution_count": 106,
     "metadata": {},
     "output_type": "execute_result"
    }
   ],
   "source": [
    "data[50:70]"
   ]
  },
  {
   "cell_type": "code",
   "execution_count": 41,
   "metadata": {},
   "outputs": [],
   "source": [
    "# 3 Classes-> 1-Iris-setosa 2- Iris-versicolor 3- Iris-virginica  and 4 features "
   ]
  },
  {
   "cell_type": "code",
   "execution_count": 42,
   "metadata": {},
   "outputs": [
    {
     "name": "stdout",
     "output_type": "stream",
     "text": [
      "{'weights': [0.13436424411240122, 0.8474337369372327, 0.763774618976614, 0.2550690257394217, 0.49543508709194095]}\n",
      "\n",
      "\n",
      "{'weights': [0.4494910647887381, 0.651592972722763, 0.7887233511355132, 0.0938595867742349, 0.02834747652200631]}\n",
      "\n",
      "\n",
      "{'weights': [0.8357651039198697, 0.43276706790505337, 0.762280082457942, 0.0021060533511106927, 0.4453871940548014]}\n",
      "\n",
      "\n",
      "{'weights': [0.7215400323407826, 0.22876222127045265, 0.9452706955539223, 0.9014274576114836, 0.030589983033553536]}\n",
      "\n",
      "\n",
      "{'weights': [0.0254458609934608, 0.5414124727934966, 0.9391491627785106, 0.38120423768821243, 0.21659939713061338]}\n",
      "\n",
      "\n",
      "\n",
      "\n",
      "{'weights': [0.4221165755827173, 0.029040787574867943, 0.22169166627303505, 0.43788759365057206, 0.49581224138185065, 0.23308445025757263]}\n",
      "\n",
      "\n",
      "{'weights': [0.2308665415409843, 0.2187810373376886, 0.4596034657377336, 0.28978161459048557, 0.021489705265908876, 0.8375779756625729]}\n",
      "\n",
      "\n",
      "{'weights': [0.5564543226524334, 0.6422943629324456, 0.1859062658947177, 0.9925434121760651, 0.8599465287952899, 0.12088995980580641]}\n",
      "\n",
      "\n",
      "(5,)\n"
     ]
    }
   ],
   "source": [
    "from random import seed\n",
    "from random import random\n",
    "\n",
    "# Initialize a network\n",
    "def initialize_network(n_inputs, n_hidden, n_outputs):\n",
    "\tnetwork = list()\n",
    "\thidden_layer = [{'weights':[random() for i in range(n_inputs + 1)]} for i in range(n_hidden)]\n",
    "\tnetwork.append(hidden_layer)\n",
    "\toutput_layer = [{'weights':[random() for i in range(n_hidden + 1)]} for i in range(n_outputs)]\n",
    "\tnetwork.append(output_layer)\n",
    "\treturn network\n",
    "\n",
    "seed(1)\n",
    "network = initialize_network(4, 5, 3) # 4 feature vector as input-> hidden layer assumed 5 and output is 3 class-1,2,3\n",
    "for i in range(len(network[0])):\n",
    " print(network[0][i])\n",
    " print('\\n')\n",
    "print('\\n')\n",
    "for i in range(len(network[1])):\n",
    " print(network[1][i])\n",
    " print('\\n')\n",
    "    \n",
    "    \n",
    "for layer in network:\n",
    "    for neuron in layer:\n",
    "        print(np.shape(neuron['weights']))\n",
    "        break \n",
    "    break     "
   ]
  },
  {
   "cell_type": "code",
   "execution_count": 43,
   "metadata": {},
   "outputs": [],
   "source": [
    "#So At Hidden Layer-> 5X1 4 input+ 1 bias itself is a vector which is 1 value per neuron\n",
    "# Also at output ->  6X1 5 input+ 1 bias"
   ]
  },
  {
   "cell_type": "code",
   "execution_count": 44,
   "metadata": {},
   "outputs": [
    {
     "name": "stdout",
     "output_type": "stream",
     "text": [
      "[0.8609707596285303, 0.8864146251436507, 0.9653897098698256]\n",
      "{'weights': [0.13436424411240122, 0.8474337369372327, 0.763774618976614, 0.2550690257394217, 0.49543508709194095], 'output': 0.9948674611445971}\n",
      "\n",
      "\n",
      "{'weights': [0.4494910647887381, 0.651592972722763, 0.7887233511355132, 0.0938595867742349, 0.02834747652200631], 'output': 0.996745029933176}\n",
      "\n",
      "\n",
      "{'weights': [0.8357651039198697, 0.43276706790505337, 0.762280082457942, 0.0021060533511106927, 0.4453871940548014], 'output': 0.9993181966765046}\n",
      "\n",
      "\n",
      "{'weights': [0.7215400323407826, 0.22876222127045265, 0.9452706955539223, 0.9014274576114836, 0.030589983033553536], 'output': 0.9975635563036737}\n",
      "\n",
      "\n",
      "{'weights': [0.0254458609934608, 0.5414124727934966, 0.9391491627785106, 0.38120423768821243, 0.21659939713061338], 'output': 0.9742282482444028}\n",
      "\n",
      "\n",
      "\n",
      "\n",
      "{'weights': [0.4221165755827173, 0.029040787574867943, 0.22169166627303505, 0.43788759365057206, 0.49581224138185065, 0.23308445025757263], 'output': 0.8609707596285303}\n",
      "\n",
      "\n",
      "{'weights': [0.2308665415409843, 0.2187810373376886, 0.4596034657377336, 0.28978161459048557, 0.021489705265908876, 0.8375779756625729], 'output': 0.8864146251436507}\n",
      "\n",
      "\n",
      "{'weights': [0.5564543226524334, 0.6422943629324456, 0.1859062658947177, 0.9925434121760651, 0.8599465287952899, 0.12088995980580641], 'output': 0.9653897098698256}\n",
      "\n",
      "\n"
     ]
    }
   ],
   "source": [
    "from math import exp\n",
    "\n",
    "# Calculate neuron activation for an input\n",
    "def activate(weights, inputs):\n",
    "\tactivation = weights[-1] # Bias array's last value\n",
    "\tfor i in range(len(weights)-1):\n",
    "\t\tactivation += weights[i] * inputs[i]\n",
    "\treturn activation\n",
    "\n",
    "# Transfer neuron activation\n",
    "def transfer(activation):\n",
    "\treturn 1.0 / (1.0 + exp(-activation))\n",
    "\n",
    "# Forward propagate input to a network output\n",
    "def forward_propagate(network, row):\n",
    "\tinputs = row\n",
    "\tfor layer in network:\n",
    "\t\tnew_inputs = []\n",
    "\t\tfor neuron in layer:\n",
    "\t\t\tactivation = activate(neuron['weights'], inputs)\n",
    "\t\t\tneuron['output'] = transfer(activation)\n",
    "\t\t\tnew_inputs.append(neuron['output'])\n",
    "\t\tinputs = new_inputs\n",
    "\treturn inputs\n",
    "\n",
    "# test forward propagation\n",
    "row = [5.1,3.5,1.4,0.2] #-> Class 1\n",
    "output = forward_propagate(network, row)\n",
    "print(output)\n",
    "for i in range(len(network[0])):\n",
    " print(network[0][i])\n",
    " print('\\n')\n",
    "print('\\n')\n",
    "for i in range(len(network[1])):\n",
    " print(network[1][i])\n",
    " print('\\n')\n",
    "    "
   ]
  },
  {
   "cell_type": "code",
   "execution_count": 45,
   "metadata": {},
   "outputs": [
    {
     "name": "stdout",
     "output_type": "stream",
     "text": [
      "{'weights': [0.13436424411240122, 0.8474337369372327, 0.763774618976614, 0.2550690257394217, 0.49543508709194095], 'output': 0.9948674611445971, 'delta': -0.00013418278548278968}\n",
      "\n",
      "\n",
      "{'weights': [0.4494910647887381, 0.651592972722763, 0.7887233511355132, 0.0938595867742349, 0.02834747652200631], 'output': 0.996745029933176, 'delta': 6.860364581729077e-05}\n",
      "\n",
      "\n",
      "{'weights': [0.8357651039198697, 0.43276706790505337, 0.762280082457942, 0.0021060533511106927, 0.4453871940548014], 'output': 0.9993181966765046, 'delta': -3.490326804112069e-05}\n",
      "\n",
      "\n",
      "{'weights': [0.7215400323407826, 0.22876222127045265, 0.9452706955539223, 0.9014274576114836, 0.030589983033553536], 'output': 0.9975635563036737, 'delta': -8.545428823696223e-06}\n",
      "\n",
      "\n",
      "{'weights': [0.0254458609934608, 0.5414124727934966, 0.9391491627785106, 0.38120423768821243, 0.21659939713061338], 'output': 0.9742282482444028, 'delta': 0.0001367049811952283}\n",
      "\n",
      "\n"
     ]
    }
   ],
   "source": [
    "# Calculate the derivative of an neuron output\n",
    "def transfer_derivative(output):\n",
    "\treturn output * (1.0 - output)\n",
    "\n",
    "# Backpropagate error and store in neurons\n",
    "def backward_propagate_error(network, expected):\n",
    "\tfor i in reversed(range(len(network))):  # len(network)=2 i=1, i=0\n",
    "\t\tlayer = network[i]                    # network[1] 3X5 matrix of weights\n",
    "\t\terrors = list()                        \n",
    "\t\tif i != len(network)-1:                \n",
    "\t\t\tfor j in range(len(layer)):        # for network 0       \n",
    "\t\t\t\terror = 0.0\n",
    "\t\t\t\tfor neuron in network[i + 1]:\n",
    "\t\t\t\t\terror += (neuron['weights'][j] * neuron['delta'])\n",
    "\t\t\t\terrors.append(error)\n",
    "\t\telse:\n",
    "\t\t\tfor j in range(len(layer)):  # network[1]  -> len(layer)=3, j=0,1,2\n",
    "\t\t\t\tneuron = layer[j]           # layer[0]\n",
    "\t\t\t\terrors.append(expected[j] - neuron['output'])\n",
    "\t\tfor j in range(len(layer)):  # j=0,1\n",
    "\t\t\tneuron = layer[j]\n",
    "\t\t\tneuron['delta'] = errors[j] * transfer_derivative(neuron['output'])\n",
    "\n",
    "# test backpropagation of error\n",
    "\n",
    "expected = [0, 0,3]\n",
    "backward_propagate_error(network, expected)\n",
    "for layer in network:\n",
    "    for neuron in layer:\n",
    "        print(neuron)\n",
    "        print('\\n')\n",
    "    break\n",
    "    "
   ]
  },
  {
   "cell_type": "code",
   "execution_count": 46,
   "metadata": {},
   "outputs": [],
   "source": [
    "# Update network weights with error\n",
    "def update_weights(network, row, l_rate):\n",
    "\tfor i in range(len(network)):\n",
    "\t\tinputs = row[:-1]\n",
    "\t\tif i != 0:\n",
    "\t\t\tinputs = [neuron['output'] for neuron in network[i - 1]]\n",
    "\t\tfor neuron in network[i]:\n",
    "\t\t\tfor j in range(len(inputs)):\n",
    "\t\t\t\tneuron['weights'][j] += l_rate * neuron['delta'] * inputs[j]\n",
    "\t\t\tneuron['weights'][-1] += l_rate * neuron['delta']"
   ]
  },
  {
   "cell_type": "code",
   "execution_count": 67,
   "metadata": {},
   "outputs": [],
   "source": [
    "# Train a network for a fixed number of epochs\n",
    "def train_network(network, train, l_rate, n_epoch, n_outputs):\n",
    " error=[]\n",
    " for epoch in range(n_epoch):\n",
    "  sum_error = 0\n",
    "  for row in train:\n",
    "   outputs = forward_propagate(network, row)\n",
    "   expected = [0 for i in range(n_outputs)]\n",
    "   expected[row[-1]] = 1\n",
    "   sum_error += sum([(expected[i]-outputs[i])**2 for i in range(len(expected))])\n",
    "   backward_propagate_error(network, expected)\n",
    "   update_weights(network, row, l_rate)\n",
    "  error.append(sum_error)\n",
    "   #print('>epoch=%d, lrate=%.3f, error=%.3f' % (epoch, l_rate, sum_error))\n",
    " return error  "
   ]
  },
  {
   "cell_type": "code",
   "execution_count": 68,
   "metadata": {},
   "outputs": [
    {
     "data": {
      "text/plain": [
       "[0, 0, 0]"
      ]
     },
     "execution_count": 68,
     "metadata": {},
     "output_type": "execute_result"
    }
   ],
   "source": [
    "expected = [0 for i in range(n_outputs)]\n",
    "expected\n"
   ]
  },
  {
   "cell_type": "code",
   "execution_count": 69,
   "metadata": {},
   "outputs": [
    {
     "data": {
      "text/plain": [
       "[[5.1, 3.5, 1.4, 0.2, 0],\n",
       " [4.9, 3.0, 1.4, 0.2, 0],\n",
       " [4.7, 3.2, 1.3, 0.2, 0],\n",
       " [4.6, 3.1, 1.5, 0.2, 0],\n",
       " [5.0, 3.6, 1.4, 0.2, 0],\n",
       " [5.4, 3.9, 1.7, 0.4, 0],\n",
       " [4.6, 3.4, 1.4, 0.3, 0],\n",
       " [5.0, 3.4, 1.5, 0.2, 0],\n",
       " [4.4, 2.9, 1.4, 0.2, 0],\n",
       " [4.9, 3.1, 1.5, 0.1, 0],\n",
       " [5.4, 3.7, 1.5, 0.2, 0],\n",
       " [4.8, 3.4, 1.6, 0.2, 0],\n",
       " [4.8, 3.0, 1.4, 0.1, 0],\n",
       " [4.3, 3.0, 1.1, 0.1, 0],\n",
       " [5.8, 4.0, 1.2, 0.2, 0],\n",
       " [5.7, 4.4, 1.5, 0.4, 0],\n",
       " [5.4, 3.9, 1.3, 0.4, 0],\n",
       " [5.1, 3.5, 1.4, 0.3, 0],\n",
       " [5.7, 3.8, 1.7, 0.3, 0],\n",
       " [5.1, 3.8, 1.5, 0.3, 0],\n",
       " [5.4, 3.4, 1.7, 0.2, 0],\n",
       " [5.1, 3.7, 1.5, 0.4, 0],\n",
       " [4.6, 3.6, 1.0, 0.2, 0],\n",
       " [5.1, 3.3, 1.7, 0.5, 0],\n",
       " [4.8, 3.4, 1.9, 0.2, 0],\n",
       " [5.0, 3.0, 1.6, 0.2, 0],\n",
       " [5.0, 3.4, 1.6, 0.4, 0],\n",
       " [5.2, 3.5, 1.5, 0.2, 0],\n",
       " [5.2, 3.4, 1.4, 0.2, 0],\n",
       " [4.7, 3.2, 1.6, 0.2, 0],\n",
       " [4.8, 3.1, 1.6, 0.2, 0],\n",
       " [5.4, 3.4, 1.5, 0.4, 0],\n",
       " [5.2, 4.1, 1.5, 0.1, 0],\n",
       " [5.5, 4.2, 1.4, 0.2, 0],\n",
       " [4.9, 3.1, 1.5, 0.1, 0],\n",
       " [5.0, 3.2, 1.2, 0.2, 0],\n",
       " [5.5, 3.5, 1.3, 0.2, 0],\n",
       " [4.9, 3.1, 1.5, 0.1, 0],\n",
       " [4.4, 3.0, 1.3, 0.2, 0],\n",
       " [5.1, 3.4, 1.5, 0.2, 0],\n",
       " [5.0, 3.5, 1.3, 0.3, 0],\n",
       " [4.5, 2.3, 1.3, 0.3, 0],\n",
       " [4.4, 3.2, 1.3, 0.2, 0],\n",
       " [5.0, 3.5, 1.6, 0.6, 0],\n",
       " [5.1, 3.8, 1.9, 0.4, 0],\n",
       " [4.8, 3.0, 1.4, 0.3, 0],\n",
       " [5.1, 3.8, 1.6, 0.2, 0],\n",
       " [4.6, 3.2, 1.4, 0.2, 0],\n",
       " [5.3, 3.7, 1.5, 0.2, 0],\n",
       " [5.0, 3.3, 1.4, 0.2, 0],\n",
       " [7.0, 3.2, 4.7, 1.4, 1],\n",
       " [6.4, 3.2, 4.5, 1.5, 1],\n",
       " [6.9, 3.1, 4.9, 1.5, 1],\n",
       " [5.5, 2.3, 4.0, 1.3, 1],\n",
       " [6.5, 2.8, 4.6, 1.5, 1],\n",
       " [5.7, 2.8, 4.5, 1.3, 1],\n",
       " [6.3, 3.3, 4.7, 1.6, 1],\n",
       " [4.9, 2.4, 3.3, 1.0, 1],\n",
       " [6.6, 2.9, 4.6, 1.3, 1],\n",
       " [5.2, 2.7, 3.9, 1.4, 1],\n",
       " [5.0, 2.0, 3.5, 1.0, 1],\n",
       " [5.9, 3.0, 4.2, 1.5, 1],\n",
       " [6.0, 2.2, 4.0, 1.0, 1],\n",
       " [6.1, 2.9, 4.7, 1.4, 1],\n",
       " [5.6, 2.9, 3.6, 1.3, 1],\n",
       " [6.7, 3.1, 4.4, 1.4, 1],\n",
       " [5.6, 3.0, 4.5, 1.5, 1],\n",
       " [5.8, 2.7, 4.1, 1.0, 1],\n",
       " [6.2, 2.2, 4.5, 1.5, 1],\n",
       " [5.6, 2.5, 3.9, 1.1, 1],\n",
       " [5.9, 3.2, 4.8, 1.8, 1],\n",
       " [6.1, 2.8, 4.0, 1.3, 1],\n",
       " [6.3, 2.5, 4.9, 1.5, 1],\n",
       " [6.1, 2.8, 4.7, 1.2, 1],\n",
       " [6.4, 2.9, 4.3, 1.3, 1],\n",
       " [6.6, 3.0, 4.4, 1.4, 1],\n",
       " [6.8, 2.8, 4.8, 1.4, 1],\n",
       " [6.7, 3.0, 5.0, 1.7, 1],\n",
       " [6.0, 2.9, 4.5, 1.5, 1],\n",
       " [5.7, 2.6, 3.5, 1.0, 1],\n",
       " [5.5, 2.4, 3.8, 1.1, 1],\n",
       " [5.5, 2.4, 3.7, 1.0, 1],\n",
       " [5.8, 2.7, 3.9, 1.2, 1],\n",
       " [6.0, 2.7, 5.1, 1.6, 1],\n",
       " [5.4, 3.0, 4.5, 1.5, 1],\n",
       " [6.0, 3.4, 4.5, 1.6, 1],\n",
       " [6.7, 3.1, 4.7, 1.5, 1],\n",
       " [6.3, 2.3, 4.4, 1.3, 1],\n",
       " [5.6, 3.0, 4.1, 1.3, 1],\n",
       " [5.5, 2.5, 4.0, 1.3, 1],\n",
       " [5.5, 2.6, 4.4, 1.2, 1],\n",
       " [6.1, 3.0, 4.6, 1.4, 1],\n",
       " [5.8, 2.6, 4.0, 1.2, 1],\n",
       " [5.0, 2.3, 3.3, 1.0, 1],\n",
       " [5.6, 2.7, 4.2, 1.3, 1],\n",
       " [5.7, 3.0, 4.2, 1.2, 1],\n",
       " [5.7, 2.9, 4.2, 1.3, 1],\n",
       " [6.2, 2.9, 4.3, 1.3, 1],\n",
       " [5.1, 2.5, 3.0, 1.1, 1],\n",
       " [5.7, 2.8, 4.1, 1.3, 1],\n",
       " [6.3, 3.3, 6.0, 2.5, 2],\n",
       " [5.8, 2.7, 5.1, 1.9, 2],\n",
       " [7.1, 3.0, 5.9, 2.1, 2],\n",
       " [6.3, 2.9, 5.6, 1.8, 2],\n",
       " [6.5, 3.0, 5.8, 2.2, 2],\n",
       " [7.6, 3.0, 6.6, 2.1, 2],\n",
       " [4.9, 2.5, 4.5, 1.7, 2],\n",
       " [7.3, 2.9, 6.3, 1.8, 2],\n",
       " [6.7, 2.5, 5.8, 1.8, 2],\n",
       " [7.2, 3.6, 6.1, 2.5, 2],\n",
       " [6.5, 3.2, 5.1, 2.0, 2],\n",
       " [6.4, 2.7, 5.3, 1.9, 2],\n",
       " [6.8, 3.0, 5.5, 2.1, 2],\n",
       " [5.7, 2.5, 5.0, 2.0, 2],\n",
       " [5.8, 2.8, 5.1, 2.4, 2],\n",
       " [6.4, 3.2, 5.3, 2.3, 2],\n",
       " [6.5, 3.0, 5.5, 1.8, 2],\n",
       " [7.7, 3.8, 6.7, 2.2, 2],\n",
       " [7.7, 2.6, 6.9, 2.3, 2],\n",
       " [6.0, 2.2, 5.0, 1.5, 2],\n",
       " [6.9, 3.2, 5.7, 2.3, 2],\n",
       " [5.6, 2.8, 4.9, 2.0, 2],\n",
       " [7.7, 2.8, 6.7, 2.0, 2],\n",
       " [6.3, 2.7, 4.9, 1.8, 2],\n",
       " [6.7, 3.3, 5.7, 2.1, 2],\n",
       " [7.2, 3.2, 6.0, 1.8, 2],\n",
       " [6.2, 2.8, 4.8, 1.8, 2],\n",
       " [6.1, 3.0, 4.9, 1.8, 2],\n",
       " [6.4, 2.8, 5.6, 2.1, 2],\n",
       " [7.2, 3.0, 5.8, 1.6, 2],\n",
       " [7.4, 2.8, 6.1, 1.9, 2],\n",
       " [7.9, 3.8, 6.4, 2.0, 2],\n",
       " [6.4, 2.8, 5.6, 2.2, 2],\n",
       " [6.3, 2.8, 5.1, 1.5, 2],\n",
       " [6.1, 2.6, 5.6, 1.4, 2],\n",
       " [7.7, 3.0, 6.1, 2.3, 2],\n",
       " [6.3, 3.4, 5.6, 2.4, 2],\n",
       " [6.4, 3.1, 5.5, 1.8, 2],\n",
       " [6.0, 3.0, 4.8, 1.8, 2],\n",
       " [6.9, 3.1, 5.4, 2.1, 2],\n",
       " [6.7, 3.1, 5.6, 2.4, 2],\n",
       " [6.9, 3.1, 5.1, 2.3, 2],\n",
       " [5.8, 2.7, 5.1, 1.9, 2],\n",
       " [6.8, 3.2, 5.9, 2.3, 2],\n",
       " [6.7, 3.3, 5.7, 2.5, 2],\n",
       " [6.7, 3.0, 5.2, 2.3, 2],\n",
       " [6.3, 2.5, 5.0, 1.9, 2],\n",
       " [6.5, 3.0, 5.2, 2.0, 2],\n",
       " [6.2, 3.4, 5.4, 2.3, 2],\n",
       " [5.9, 3.0, 5.1, 1.8, 2]]"
      ]
     },
     "execution_count": 69,
     "metadata": {},
     "output_type": "execute_result"
    }
   ],
   "source": [
    "dataset=list()\n",
    "for i in range(len(data)):\n",
    "    dataset.append(list(data.iloc[i]))\n",
    "dataset"
   ]
  },
  {
   "cell_type": "code",
   "execution_count": 95,
   "metadata": {},
   "outputs": [
    {
     "name": "stdout",
     "output_type": "stream",
     "text": [
      "Error: 4.895950135586656\n"
     ]
    },
    {
     "data": {
      "image/png": "[encoded data removed]",
      "text/plain": [
       "<Figure size 432x288 with 1 Axes>"
      ]
     },
     "metadata": {
      "needs_background": "light"
     },
     "output_type": "display_data"
    }
   ],
   "source": [
    "import matplotlib.pyplot as plt\n",
    "n_inputs = len(dataset[0]) - 1\n",
    "n_outputs = len(set([row[-1] for row in dataset]))\n",
    "network = initialize_network(n_inputs, 5, n_outputs)\n",
    "error=train_network(network, dataset, 0.1, 100, n_outputs)\n",
    "#for layer in network:\n",
    "#\tprint(layer)\n",
    "plt.plot(error)\n",
    "print('Error:',error[-1])"
   ]
  },
  {
   "cell_type": "code",
   "execution_count": 97,
   "metadata": {},
   "outputs": [
    {
     "name": "stdout",
     "output_type": "stream",
     "text": [
      "Error: 2.143654591172658\n"
     ]
    },
    {
     "data": {
      "image/png": "[encoded data removed]",
      "text/plain": [
       "<Figure size 432x288 with 1 Axes>"
      ]
     },
     "metadata": {
      "needs_background": "light"
     },
     "output_type": "display_data"
    }
   ],
   "source": [
    "import matplotlib.pyplot as plt\n",
    "n_inputs = len(dataset[0]) - 1\n",
    "n_outputs = len(set([row[-1] for row in dataset]))\n",
    "network = initialize_network(n_inputs, 5, n_outputs)\n",
    "error=train_network(network, dataset, 0.2, 100, n_outputs)\n",
    "#for layer in network:\n",
    "#\tprint(layer)\n",
    "plt.plot(error)\n",
    "print('Error:',error[-1])"
   ]
  },
  {
   "cell_type": "code",
   "execution_count": 99,
   "metadata": {},
   "outputs": [
    {
     "name": "stdout",
     "output_type": "stream",
     "text": [
      "Error: 1.041971564497183\n"
     ]
    },
    {
     "data": {
      "image/png": "[encoded data removed]",
      "text/plain": [
       "<Figure size 432x288 with 1 Axes>"
      ]
     },
     "metadata": {
      "needs_background": "light"
     },
     "output_type": "display_data"
    }
   ],
   "source": [
    "import matplotlib.pyplot as plt\n",
    "n_inputs = len(dataset[0]) - 1\n",
    "n_outputs = len(set([row[-1] for row in dataset]))\n",
    "network = initialize_network(n_inputs, 5, n_outputs)\n",
    "error=train_network(network, dataset, 0.3, 100, n_outputs)\n",
    "#for layer in network:\n",
    "#\tprint(layer)\n",
    "plt.plot(error)\n",
    "print('Error:',error[-1])"
   ]
  },
  {
   "cell_type": "code",
   "execution_count": 134,
   "metadata": {},
   "outputs": [
    {
     "name": "stdout",
     "output_type": "stream",
     "text": [
      "Error: 7.251473209702905\n"
     ]
    },
    {
     "data": {
      "image/png": "[encoded data removed]",
      "text/plain": [
       "<Figure size 432x288 with 1 Axes>"
      ]
     },
     "metadata": {
      "needs_background": "light"
     },
     "output_type": "display_data"
    }
   ],
   "source": [
    "import matplotlib.pyplot as plt\n",
    "n_inputs = len(dataset[0]) - 1\n",
    "n_outputs = len(set([row[-1] for row in dataset]))\n",
    "network = initialize_network(n_inputs, 5, n_outputs)\n",
    "error=train_network(network, dataset, 0.4, 1000, n_outputs)\n",
    "#for layer in network:\n",
    "#\tprint(layer)\n",
    "plt.plot(error)\n",
    "print('Error:',error[-1])"
   ]
  },
  {
   "cell_type": "code",
   "execution_count": 146,
   "metadata": {},
   "outputs": [
    {
     "name": "stdout",
     "output_type": "stream",
     "text": [
      "Weights from input layer to hidden layer :\n",
      "\n",
      "\n",
      "{'weights': [-19.346454570559263, -22.587805706834203, 32.10292637114691, 33.48882866370681, -26.447036581172757], 'output': 0.9999793847656843, 'delta': -2.1113365862846527e-09}\n",
      "\n",
      "\n",
      "{'weights': [0.3465624197204605, 0.751127008846057, 0.8604603384503742, 0.5453761347732755, 0.2877698781111391], 'output': 0.9999763058134259, 'delta': 6.189391033092653e-07}\n",
      "\n",
      "\n",
      "{'weights': [0.5581935083660143, 2.3794158528875067, -4.02603715674725, -1.8071368142884559, 0.7179576815252615], 'output': 2.9211737296206668e-06, 'delta': -2.505590027760478e-06}\n",
      "\n",
      "\n",
      "{'weights': [0.784977213962614, 0.7067143891114466, 0.23846268958112415, 0.997919877374112, 0.15630802273646144], 'output': 0.9999873119953709, 'delta': 3.252252416679733e-07}\n",
      "\n",
      "\n",
      "{'weights': [0.7677348954806149, 0.7938058303154782, 0.2997868048788545, 0.7199558332783007, 0.1275580805394025], 'output': 0.999984436056279, 'delta': 5.531864487342133e-07}\n",
      "\n",
      "\n",
      "\n",
      "\n",
      "Weights from hidden layer to output layer :\n",
      "\n",
      "\n",
      "{'weights': [-3.19559525587009, -1.1859706221073985, 9.830182551165064, -1.1735509453740045, -1.358848482776377, -1.1216681093552952], 'output': 0.00032366601212948244, 'delta': -6.15034190188689e-05}\n",
      "\n",
      "\n",
      "{'weights': [-6.407995032241858, 0.8714319314341673, -8.459669341409091, 0.5309415592399753, 0.8348001286526439, 0.9844192332298196], 'output': 0.03968320529423798, 'delta': 0.0014289642254188746}\n",
      "\n",
      "\n",
      "{'weights': [6.421513870870482, -0.739886725291554, -2.6654146846394102, -0.5260446791840505, -0.9302471249557877, -1.0393563552814693], 'output': 0.9602993501667447, 'delta': -0.0013835632374557226}\n",
      "\n",
      "\n"
     ]
    }
   ],
   "source": [
    "print('Weights from input layer to hidden layer :')  \n",
    "print('\\n')\n",
    "for i in range(len(network[0])):\n",
    "  \n",
    " print(network[0][i])\n",
    " print('\\n')\n",
    "print('\\n')\n",
    "print('Weights from hidden layer to output layer :')\n",
    "print('\\n')\n",
    "for i in range(len(network[1])):\n",
    "    \n",
    " print(network[1][i])\n",
    " print('\\n')"
   ]
  },
  {
   "cell_type": "code",
   "execution_count": 103,
   "metadata": {},
   "outputs": [
    {
     "data": {
      "text/plain": [
       "[[5.1, 3.5, 1.4, 0.2, 0],\n",
       " [4.9, 3.0, 1.4, 0.2, 0],\n",
       " [4.7, 3.2, 1.3, 0.2, 0],\n",
       " [4.6, 3.1, 1.5, 0.2, 0],\n",
       " [5.0, 3.6, 1.4, 0.2, 0]]"
      ]
     },
     "execution_count": 103,
     "metadata": {},
     "output_type": "execute_result"
    }
   ],
   "source": [
    "# prediction on first 5 examples\n",
    "pred_data=dataset[0:5]\n",
    "pred_data\n"
   ]
  },
  {
   "cell_type": "code",
   "execution_count": 113,
   "metadata": {},
   "outputs": [
    {
     "name": "stdout",
     "output_type": "stream",
     "text": [
      "True Prediciton\n"
     ]
    }
   ],
   "source": [
    "row = [5.1,3.5,1.4,0.2] #-> Class 0\n",
    "output = forward_propagate(network, row)\n",
    "if output.index(max(output))==0:\n",
    "    print('True Prediciton')\n",
    "else:\n",
    "    print('False Prediction')"
   ]
  },
  {
   "cell_type": "code",
   "execution_count": 117,
   "metadata": {},
   "outputs": [
    {
     "name": "stdout",
     "output_type": "stream",
     "text": [
      "True Prediciton\n"
     ]
    }
   ],
   "source": [
    "row = [6.9,3.1,5.4,2.1] #-> Class 2\n",
    "output = forward_propagate(network, row)\n",
    "if output.index(max(output))==2:\n",
    "    print('True Prediciton')\n",
    "else:\n",
    "    print('False Prediction')"
   ]
  },
  {
   "cell_type": "code",
   "execution_count": 118,
   "metadata": {},
   "outputs": [
    {
     "name": "stdout",
     "output_type": "stream",
     "text": [
      "False Prediction\n"
     ]
    }
   ],
   "source": [
    "row = [6.5,2.8,4.6,1.5] #-> Class 1\n",
    "output = forward_propagate(network, row)\n",
    "if output.index(max(output))==1:\n",
    "    print('True Prediciton')\n",
    "else:\n",
    "    print('False Prediction')"
   ]
  },
  {
   "cell_type": "code",
   "execution_count": 122,
   "metadata": {},
   "outputs": [],
   "source": [
    "from random import shuffle\n",
    "shuffle(dataset)"
   ]
  },
  {
   "cell_type": "code",
   "execution_count": 123,
   "metadata": {},
   "outputs": [
    {
     "data": {
      "text/plain": [
       "[[5.5, 2.4, 3.8, 1.1, 1],\n",
       " [4.9, 3.1, 1.5, 0.1, 0],\n",
       " [4.8, 3.0, 1.4, 0.1, 0],\n",
       " [6.0, 2.2, 5.0, 1.5, 2],\n",
       " [5.6, 2.8, 4.9, 2.0, 2],\n",
       " [5.5, 4.2, 1.4, 0.2, 0],\n",
       " [5.7, 2.8, 4.1, 1.3, 1],\n",
       " [5.6, 2.7, 4.2, 1.3, 1],\n",
       " [5.1, 3.4, 1.5, 0.2, 0],\n",
       " [5.0, 3.4, 1.6, 0.4, 0],\n",
       " [6.0, 3.0, 4.8, 1.8, 2],\n",
       " [7.0, 3.2, 4.7, 1.4, 1],\n",
       " [5.1, 3.7, 1.5, 0.4, 0],\n",
       " [6.8, 2.8, 4.8, 1.4, 1],\n",
       " [5.1, 3.5, 1.4, 0.2, 0],\n",
       " [6.2, 2.2, 4.5, 1.5, 1],\n",
       " [6.1, 2.8, 4.7, 1.2, 1],\n",
       " [4.9, 3.1, 1.5, 0.1, 0],\n",
       " [7.4, 2.8, 6.1, 1.9, 2],\n",
       " [6.7, 2.5, 5.8, 1.8, 2],\n",
       " [5.5, 2.4, 3.7, 1.0, 1],\n",
       " [4.6, 3.1, 1.5, 0.2, 0],\n",
       " [6.1, 2.8, 4.0, 1.3, 1],\n",
       " [6.4, 2.8, 5.6, 2.1, 2],\n",
       " [6.5, 3.2, 5.1, 2.0, 2],\n",
       " [6.3, 2.3, 4.4, 1.3, 1],\n",
       " [4.3, 3.0, 1.1, 0.1, 0],\n",
       " [4.7, 3.2, 1.3, 0.2, 0],\n",
       " [6.7, 3.1, 4.4, 1.4, 1],\n",
       " [5.6, 2.9, 3.6, 1.3, 1],\n",
       " [5.2, 3.5, 1.5, 0.2, 0],\n",
       " [5.1, 3.5, 1.4, 0.3, 0],\n",
       " [5.6, 3.0, 4.5, 1.5, 1],\n",
       " [5.9, 3.0, 5.1, 1.8, 2],\n",
       " [5.0, 2.0, 3.5, 1.0, 1],\n",
       " [7.1, 3.0, 5.9, 2.1, 2],\n",
       " [5.4, 3.9, 1.3, 0.4, 0],\n",
       " [6.8, 3.2, 5.9, 2.3, 2],\n",
       " [6.9, 3.1, 5.4, 2.1, 2],\n",
       " [5.7, 2.6, 3.5, 1.0, 1],\n",
       " [6.2, 3.4, 5.4, 2.3, 2],\n",
       " [6.7, 3.3, 5.7, 2.1, 2],\n",
       " [6.7, 3.1, 5.6, 2.4, 2],\n",
       " [6.4, 2.9, 4.3, 1.3, 1],\n",
       " [6.4, 3.2, 4.5, 1.5, 1],\n",
       " [5.6, 2.5, 3.9, 1.1, 1],\n",
       " [5.8, 2.7, 3.9, 1.2, 1],\n",
       " [5.5, 2.6, 4.4, 1.2, 1],\n",
       " [6.5, 3.0, 5.2, 2.0, 2],\n",
       " [6.2, 2.9, 4.3, 1.3, 1],\n",
       " [6.1, 2.9, 4.7, 1.4, 1],\n",
       " [5.4, 3.7, 1.5, 0.2, 0],\n",
       " [7.7, 3.8, 6.7, 2.2, 2],\n",
       " [6.9, 3.2, 5.7, 2.3, 2],\n",
       " [6.7, 3.3, 5.7, 2.5, 2],\n",
       " [4.9, 3.0, 1.4, 0.2, 0],\n",
       " [6.7, 3.1, 4.7, 1.5, 1],\n",
       " [5.9, 3.2, 4.8, 1.8, 1],\n",
       " [6.3, 2.5, 5.0, 1.9, 2],\n",
       " [5.4, 3.4, 1.7, 0.2, 0],\n",
       " [6.3, 2.5, 4.9, 1.5, 1],\n",
       " [6.3, 2.9, 5.6, 1.8, 2],\n",
       " [7.6, 3.0, 6.6, 2.1, 2],\n",
       " [6.9, 3.1, 4.9, 1.5, 1],\n",
       " [6.4, 2.8, 5.6, 2.2, 2],\n",
       " [4.4, 3.2, 1.3, 0.2, 0],\n",
       " [4.4, 3.0, 1.3, 0.2, 0],\n",
       " [5.0, 3.2, 1.2, 0.2, 0],\n",
       " [7.9, 3.8, 6.4, 2.0, 2],\n",
       " [6.9, 3.1, 5.1, 2.3, 2],\n",
       " [6.4, 3.1, 5.5, 1.8, 2],\n",
       " [5.7, 2.9, 4.2, 1.3, 1],\n",
       " [4.6, 3.6, 1.0, 0.2, 0],\n",
       " [5.0, 3.5, 1.6, 0.6, 0],\n",
       " [6.0, 2.2, 4.0, 1.0, 1],\n",
       " [5.6, 3.0, 4.1, 1.3, 1],\n",
       " [5.5, 2.5, 4.0, 1.3, 1],\n",
       " [5.1, 2.5, 3.0, 1.1, 1],\n",
       " [5.0, 3.3, 1.4, 0.2, 0],\n",
       " [5.3, 3.7, 1.5, 0.2, 0],\n",
       " [6.0, 2.9, 4.5, 1.5, 1],\n",
       " [6.6, 2.9, 4.6, 1.3, 1],\n",
       " [6.1, 2.6, 5.6, 1.4, 2],\n",
       " [6.3, 2.7, 4.9, 1.8, 2],\n",
       " [4.5, 2.3, 1.3, 0.3, 0],\n",
       " [4.8, 3.4, 1.9, 0.2, 0],\n",
       " [7.7, 2.8, 6.7, 2.0, 2],\n",
       " [6.3, 3.4, 5.6, 2.4, 2],\n",
       " [5.4, 3.4, 1.5, 0.4, 0],\n",
       " [6.5, 2.8, 4.6, 1.5, 1],\n",
       " [5.8, 2.7, 4.1, 1.0, 1],\n",
       " [5.2, 4.1, 1.5, 0.1, 0],\n",
       " [6.1, 3.0, 4.6, 1.4, 1],\n",
       " [5.7, 2.5, 5.0, 2.0, 2],\n",
       " [5.2, 3.4, 1.4, 0.2, 0],\n",
       " [7.2, 3.6, 6.1, 2.5, 2],\n",
       " [5.8, 4.0, 1.2, 0.2, 0],\n",
       " [5.0, 2.3, 3.3, 1.0, 1],\n",
       " [5.8, 2.8, 5.1, 2.4, 2],\n",
       " [4.6, 3.4, 1.4, 0.3, 0],\n",
       " [7.3, 2.9, 6.3, 1.8, 2],\n",
       " [6.4, 2.7, 5.3, 1.9, 2],\n",
       " [6.7, 3.0, 5.2, 2.3, 2],\n",
       " [6.3, 2.8, 5.1, 1.5, 2],\n",
       " [6.0, 3.4, 4.5, 1.6, 1],\n",
       " [6.5, 3.0, 5.5, 1.8, 2],\n",
       " [7.2, 3.2, 6.0, 1.8, 2],\n",
       " [6.1, 3.0, 4.9, 1.8, 2],\n",
       " [7.7, 2.6, 6.9, 2.3, 2],\n",
       " [4.8, 3.4, 1.6, 0.2, 0],\n",
       " [6.6, 3.0, 4.4, 1.4, 1],\n",
       " [6.2, 2.8, 4.8, 1.8, 2],\n",
       " [5.1, 3.8, 1.9, 0.4, 0],\n",
       " [5.5, 3.5, 1.3, 0.2, 0],\n",
       " [5.7, 3.0, 4.2, 1.2, 1],\n",
       " [5.4, 3.9, 1.7, 0.4, 0],\n",
       " [4.7, 3.2, 1.6, 0.2, 0],\n",
       " [5.1, 3.8, 1.5, 0.3, 0],\n",
       " [6.3, 3.3, 4.7, 1.6, 1],\n",
       " [4.9, 2.5, 4.5, 1.7, 2],\n",
       " [4.4, 2.9, 1.4, 0.2, 0],\n",
       " [5.7, 3.8, 1.7, 0.3, 0],\n",
       " [5.8, 2.6, 4.0, 1.2, 1],\n",
       " [6.8, 3.0, 5.5, 2.1, 2],\n",
       " [5.0, 3.5, 1.3, 0.3, 0],\n",
       " [5.8, 2.7, 5.1, 1.9, 2],\n",
       " [5.0, 3.4, 1.5, 0.2, 0],\n",
       " [5.0, 3.0, 1.6, 0.2, 0],\n",
       " [6.7, 3.0, 5.0, 1.7, 1],\n",
       " [4.8, 3.0, 1.4, 0.3, 0],\n",
       " [4.9, 2.4, 3.3, 1.0, 1],\n",
       " [5.7, 2.8, 4.5, 1.3, 1],\n",
       " [7.7, 3.0, 6.1, 2.3, 2],\n",
       " [5.1, 3.3, 1.7, 0.5, 0],\n",
       " [7.2, 3.0, 5.8, 1.6, 2],\n",
       " [4.6, 3.2, 1.4, 0.2, 0],\n",
       " [5.0, 3.6, 1.4, 0.2, 0],\n",
       " [4.8, 3.1, 1.6, 0.2, 0],\n",
       " [6.5, 3.0, 5.8, 2.2, 2],\n",
       " [6.0, 2.7, 5.1, 1.6, 1],\n",
       " [5.4, 3.0, 4.5, 1.5, 1],\n",
       " [4.9, 3.1, 1.5, 0.1, 0],\n",
       " [6.4, 3.2, 5.3, 2.3, 2],\n",
       " [5.8, 2.7, 5.1, 1.9, 2],\n",
       " [5.9, 3.0, 4.2, 1.5, 1],\n",
       " [5.7, 4.4, 1.5, 0.4, 0],\n",
       " [6.3, 3.3, 6.0, 2.5, 2],\n",
       " [5.5, 2.3, 4.0, 1.3, 1],\n",
       " [5.1, 3.8, 1.6, 0.2, 0],\n",
       " [5.2, 2.7, 3.9, 1.4, 1]]"
      ]
     },
     "execution_count": 123,
     "metadata": {},
     "output_type": "execute_result"
    }
   ],
   "source": [
    "dataset"
   ]
  },
  {
   "cell_type": "code",
   "execution_count": 125,
   "metadata": {},
   "outputs": [
    {
     "data": {
      "text/plain": [
       "[[5.2, 3.5, 1.5, 0.2, 0],\n",
       " [5.1, 3.5, 1.4, 0.3, 0],\n",
       " [5.6, 3.0, 4.5, 1.5, 1],\n",
       " [5.9, 3.0, 5.1, 1.8, 2],\n",
       " [5.0, 2.0, 3.5, 1.0, 1],\n",
       " [7.1, 3.0, 5.9, 2.1, 2],\n",
       " [5.4, 3.9, 1.3, 0.4, 0],\n",
       " [6.8, 3.2, 5.9, 2.3, 2],\n",
       " [6.9, 3.1, 5.4, 2.1, 2],\n",
       " [5.7, 2.6, 3.5, 1.0, 1],\n",
       " [6.2, 3.4, 5.4, 2.3, 2],\n",
       " [6.7, 3.3, 5.7, 2.1, 2],\n",
       " [6.7, 3.1, 5.6, 2.4, 2],\n",
       " [6.4, 2.9, 4.3, 1.3, 1],\n",
       " [6.4, 3.2, 4.5, 1.5, 1],\n",
       " [5.6, 2.5, 3.9, 1.1, 1],\n",
       " [5.8, 2.7, 3.9, 1.2, 1],\n",
       " [5.5, 2.6, 4.4, 1.2, 1],\n",
       " [6.5, 3.0, 5.2, 2.0, 2],\n",
       " [6.2, 2.9, 4.3, 1.3, 1],\n",
       " [6.1, 2.9, 4.7, 1.4, 1],\n",
       " [5.4, 3.7, 1.5, 0.2, 0],\n",
       " [7.7, 3.8, 6.7, 2.2, 2],\n",
       " [6.9, 3.2, 5.7, 2.3, 2],\n",
       " [6.7, 3.3, 5.7, 2.5, 2],\n",
       " [4.9, 3.0, 1.4, 0.2, 0],\n",
       " [6.7, 3.1, 4.7, 1.5, 1],\n",
       " [5.9, 3.2, 4.8, 1.8, 1],\n",
       " [6.3, 2.5, 5.0, 1.9, 2],\n",
       " [5.4, 3.4, 1.7, 0.2, 0],\n",
       " [6.3, 2.5, 4.9, 1.5, 1],\n",
       " [6.3, 2.9, 5.6, 1.8, 2],\n",
       " [7.6, 3.0, 6.6, 2.1, 2],\n",
       " [6.9, 3.1, 4.9, 1.5, 1],\n",
       " [6.4, 2.8, 5.6, 2.2, 2],\n",
       " [4.4, 3.2, 1.3, 0.2, 0],\n",
       " [4.4, 3.0, 1.3, 0.2, 0],\n",
       " [5.0, 3.2, 1.2, 0.2, 0],\n",
       " [7.9, 3.8, 6.4, 2.0, 2],\n",
       " [6.9, 3.1, 5.1, 2.3, 2]]"
      ]
     },
     "execution_count": 125,
     "metadata": {},
     "output_type": "execute_result"
    }
   ],
   "source": [
    "test_data=dataset[30:70]\n",
    "test_data"
   ]
  },
  {
   "cell_type": "code",
   "execution_count": 140,
   "metadata": {},
   "outputs": [
    {
     "name": "stdout",
     "output_type": "stream",
     "text": [
      "Accuracy: 95.0 %\n"
     ]
    },
    {
     "data": {
      "image/png": "[encoded data removed]",
      "text/plain": [
       "<Figure size 432x288 with 1 Axes>"
      ]
     },
     "metadata": {
      "needs_background": "light"
     },
     "output_type": "display_data"
    }
   ],
   "source": [
    "count=[]\n",
    "for i in range(len(test_data)):\n",
    "    row = test_data[i]\n",
    "    output = forward_propagate(network, row)\n",
    "    if output.index(max(output))==row[-1]:\n",
    "     #print('True Prediciton')\n",
    "     count.append(1)\n",
    "    else:\n",
    "     #print('False Prediction')\n",
    "     count.append(0)\n",
    "plt.plot(count,'o')        \n",
    "print('Accuracy:',(sum(count)/len(count))*100,'%')"
   ]
  },
  {
   "cell_type": "code",
   "execution_count": null,
   "metadata": {},
   "outputs": [],
   "source": []
  }
 ],
 "metadata": {
  "kernelspec": {
   "display_name": "Python 3",
   "language": "python",
   "name": "python3"
  },
  "language_info": {
   "codemirror_mode": {
    "name": "ipython",
    "version": 3
   },
   "file_extension": ".py",
   "mimetype": "text/x-python",
   "name": "python",
   "nbconvert_exporter": "python",
   "pygments_lexer": "ipython3",
   "version": "3.7.0"
  }
 },
 "nbformat": 4,
 "nbformat_minor": 2
}
