{
 "cells": [
  {
   "cell_type": "markdown",
   "metadata": {},
   "source": [
    "# Gradient Descent on Carsmall Data having 5 features and 1 output"
   ]
  },
  {
   "cell_type": "code",
   "execution_count": 291,
   "metadata": {},
   "outputs": [],
   "source": [
    "import numpy as np\n",
    "import matplotlib.pyplot as plt\n",
    "import pandas as pd\n",
    "from sklearn import preprocessing as p"
   ]
  },
  {
   "cell_type": "markdown",
   "metadata": {},
   "source": [
    "# Dataset Looks like this: "
   ]
  },
  {
   "cell_type": "code",
   "execution_count": 292,
   "metadata": {},
   "outputs": [
    {
     "data": {
      "text/html": [
       "<div>\n",
       "<style scoped>\n",
       "    .dataframe tbody tr th:only-of-type {\n",
       "        vertical-align: middle;\n",
       "    }\n",
       "\n",
       "    .dataframe tbody tr th {\n",
       "        vertical-align: top;\n",
       "    }\n",
       "\n",
       "    .dataframe thead th {\n",
       "        text-align: right;\n",
       "    }\n",
       "</style>\n",
       "<table border=\"1\" class=\"dataframe\">\n",
       "  <thead>\n",
       "    <tr style=\"text-align: right;\">\n",
       "      <th></th>\n",
       "      <th>x1</th>\n",
       "      <th>x2</th>\n",
       "      <th>x3</th>\n",
       "      <th>x4</th>\n",
       "      <th>x5</th>\n",
       "      <th>y</th>\n",
       "    </tr>\n",
       "  </thead>\n",
       "  <tbody>\n",
       "    <tr>\n",
       "      <th>0</th>\n",
       "      <td>12.0</td>\n",
       "      <td>8</td>\n",
       "      <td>307</td>\n",
       "      <td>130</td>\n",
       "      <td>3504</td>\n",
       "      <td>18.0</td>\n",
       "    </tr>\n",
       "    <tr>\n",
       "      <th>1</th>\n",
       "      <td>11.5</td>\n",
       "      <td>8</td>\n",
       "      <td>350</td>\n",
       "      <td>165</td>\n",
       "      <td>3693</td>\n",
       "      <td>15.0</td>\n",
       "    </tr>\n",
       "    <tr>\n",
       "      <th>2</th>\n",
       "      <td>11.0</td>\n",
       "      <td>8</td>\n",
       "      <td>318</td>\n",
       "      <td>150</td>\n",
       "      <td>3436</td>\n",
       "      <td>18.0</td>\n",
       "    </tr>\n",
       "    <tr>\n",
       "      <th>3</th>\n",
       "      <td>12.0</td>\n",
       "      <td>8</td>\n",
       "      <td>304</td>\n",
       "      <td>150</td>\n",
       "      <td>3433</td>\n",
       "      <td>16.0</td>\n",
       "    </tr>\n",
       "    <tr>\n",
       "      <th>4</th>\n",
       "      <td>10.5</td>\n",
       "      <td>8</td>\n",
       "      <td>302</td>\n",
       "      <td>140</td>\n",
       "      <td>3449</td>\n",
       "      <td>17.0</td>\n",
       "    </tr>\n",
       "  </tbody>\n",
       "</table>\n",
       "</div>"
      ],
      "text/plain": [
       "     x1  x2   x3   x4    x5     y\n",
       "0  12.0   8  307  130  3504  18.0\n",
       "1  11.5   8  350  165  3693  15.0\n",
       "2  11.0   8  318  150  3436  18.0\n",
       "3  12.0   8  304  150  3433  16.0\n",
       "4  10.5   8  302  140  3449  17.0"
      ]
     },
     "execution_count": 292,
     "metadata": {},
     "output_type": "execute_result"
    }
   ],
   "source": [
    "data=pd.read_csv('data_carsmall.csv')\n",
    "feat_len=len(data.columns)-1\n",
    "index_len=len(data.index)\n",
    "data.head()"
   ]
  },
  {
   "cell_type": "code",
   "execution_count": 293,
   "metadata": {},
   "outputs": [],
   "source": [
    "X=np.ones([len(data.index),feat_len+1])"
   ]
  },
  {
   "cell_type": "code",
   "execution_count": 294,
   "metadata": {},
   "outputs": [
    {
     "data": {
      "text/plain": [
       "array([[1., 1., 1., 1., 1., 1.],\n",
       "       [1., 1., 1., 1., 1., 1.],\n",
       "       [1., 1., 1., 1., 1., 1.],\n",
       "       [1., 1., 1., 1., 1., 1.],\n",
       "       [1., 1., 1., 1., 1., 1.]])"
      ]
     },
     "execution_count": 294,
     "metadata": {},
     "output_type": "execute_result"
    }
   ],
   "source": [
    "X[0:5]"
   ]
  },
  {
   "cell_type": "code",
   "execution_count": 295,
   "metadata": {},
   "outputs": [],
   "source": [
    "for i in range(index_len):\n",
    "    for j in range(feat_len):\n",
    "         X[i][j+1]=data.iloc[i][data.columns[j]]"
   ]
  },
  {
   "cell_type": "code",
   "execution_count": 296,
   "metadata": {},
   "outputs": [
    {
     "name": "stdout",
     "output_type": "stream",
     "text": [
      "[[1.000e+00 1.200e+01 8.000e+00 3.070e+02 1.300e+02 3.504e+03]\n",
      " [1.000e+00 1.150e+01 8.000e+00 3.500e+02 1.650e+02 3.693e+03]\n",
      " [1.000e+00 1.100e+01 8.000e+00 3.180e+02 1.500e+02 3.436e+03]\n",
      " [1.000e+00 1.200e+01 8.000e+00 3.040e+02 1.500e+02 3.433e+03]\n",
      " [1.000e+00 1.050e+01 8.000e+00 3.020e+02 1.400e+02 3.449e+03]]\n"
     ]
    }
   ],
   "source": [
    "X[0:5,:]\n",
    "print(X[0:5,0:6])"
   ]
  },
  {
   "cell_type": "code",
   "execution_count": 297,
   "metadata": {},
   "outputs": [
    {
     "data": {
      "text/plain": [
       "x1      11.5\n",
       "x2       8.0\n",
       "x3     350.0\n",
       "x4     165.0\n",
       "x5    3693.0\n",
       "y       15.0\n",
       "Name: 1, dtype: float64"
      ]
     },
     "execution_count": 297,
     "metadata": {},
     "output_type": "execute_result"
    }
   ],
   "source": [
    "data.iloc[1]"
   ]
  },
  {
   "cell_type": "markdown",
   "metadata": {},
   "source": [
    "# Data Preprocessing"
   ]
  },
  {
   "cell_type": "code",
   "execution_count": 298,
   "metadata": {},
   "outputs": [
    {
     "name": "stdout",
     "output_type": "stream",
     "text": [
      "(93, 1)\n"
     ]
    },
    {
     "data": {
      "text/plain": [
       "array([[18.],\n",
       "       [15.],\n",
       "       [18.],\n",
       "       [16.],\n",
       "       [17.]])"
      ]
     },
     "execution_count": 298,
     "metadata": {},
     "output_type": "execute_result"
    }
   ],
   "source": [
    "Y=data['y']\n",
    "Y = np.expand_dims(Y, axis=0)\n",
    "Y=Y.T\n",
    "print(Y.shape)\n",
    "Y[0:5]"
   ]
  },
  {
   "cell_type": "markdown",
   "metadata": {},
   "source": [
    "# Normalizing Data with Mean 0 and Variance 1"
   ]
  },
  {
   "cell_type": "code",
   "execution_count": 299,
   "metadata": {},
   "outputs": [
    {
     "name": "stdout",
     "output_type": "stream",
     "text": [
      "549.1609318996416 1131.1092291298783 23.725806451612904 8.035377465701439\n"
     ]
    }
   ],
   "source": [
    "m_x=np.mean(X)\n",
    "s_x=np.std(X)\n",
    "m_y=np.mean(Y)\n",
    "s_y=np.std(Y)\n",
    "print(m_x, s_x, m_y, s_y)\n",
    "\n",
    "X[:,1:6] = p.scale(X[:,1:6])\n",
    "Y= p.scale(Y)"
   ]
  },
  {
   "cell_type": "markdown",
   "metadata": {},
   "source": [
    "# Data looks like this after normalization: "
   ]
  },
  {
   "cell_type": "code",
   "execution_count": 300,
   "metadata": {},
   "outputs": [
    {
     "data": {
      "text/plain": [
       "array([[ 1.        , -0.99504022,  1.41727109,  0.96195761,  0.4579008 ,\n",
       "         0.67549877],\n",
       "       [ 1.        , -1.15093433,  1.41727109,  1.35365585,  1.23378164,\n",
       "         0.91127076],\n",
       "       [ 1.        , -1.30682843,  1.41727109,  1.06215949,  0.90126128,\n",
       "         0.59067075],\n",
       "       [ 1.        , -0.99504022,  1.41727109,  0.93462982,  0.90126128,\n",
       "         0.58692834],\n",
       "       [ 1.        , -1.46272254,  1.41727109,  0.9164113 ,  0.67958104,\n",
       "         0.60688787]])"
      ]
     },
     "execution_count": 300,
     "metadata": {},
     "output_type": "execute_result"
    }
   ],
   "source": [
    "X[0:5,:]"
   ]
  },
  {
   "cell_type": "code",
   "execution_count": 301,
   "metadata": {},
   "outputs": [
    {
     "data": {
      "text/plain": [
       "array([[-1.08592365],\n",
       "       [-0.71257467],\n",
       "       [-0.96147399],\n",
       "       [-0.83702433],\n",
       "       [-1.08592365],\n",
       "       [-1.21037331],\n",
       "       [-1.21037331],\n",
       "       [-1.21037331],\n",
       "       [-1.08592365]])"
      ]
     },
     "execution_count": 301,
     "metadata": {},
     "output_type": "execute_result"
    }
   ],
   "source": [
    "Y[1:10]"
   ]
  },
  {
   "cell_type": "code",
   "execution_count": 302,
   "metadata": {},
   "outputs": [
    {
     "name": "stdout",
     "output_type": "stream",
     "text": [
      "0.16666666666666644\n",
      "0.9860132971832691\n",
      "-9.072790308764721e-17\n",
      "1.0\n"
     ]
    }
   ],
   "source": [
    "print(np.mean(X))\n",
    "print(np.std(X))\n",
    "print(np.mean(Y))\n",
    "print(np.std(Y))"
   ]
  },
  {
   "cell_type": "markdown",
   "metadata": {},
   "source": [
    "# Data Dimensions\n"
   ]
  },
  {
   "cell_type": "code",
   "execution_count": 303,
   "metadata": {},
   "outputs": [
    {
     "name": "stdout",
     "output_type": "stream",
     "text": [
      "(93, 6)\n",
      "(93, 1)\n"
     ]
    }
   ],
   "source": [
    "print(X.shape)\n",
    "print(Y.shape)\n",
    "m=5"
   ]
  },
  {
   "cell_type": "markdown",
   "metadata": {},
   "source": [
    "# Gradient Descent Function: "
   ]
  },
  {
   "cell_type": "code",
   "execution_count": 304,
   "metadata": {},
   "outputs": [],
   "source": [
    "#GRADIENT DESCENT\n",
    "def gradient_descent(x, y, theta, iterations, alpha):\n",
    "  \n",
    "    past_costs = []\n",
    "    theta_not=theta[-1] \n",
    "    past_thetas = [theta]\n",
    "   \n",
    "    for i in range(iterations):\n",
    "          \n",
    "        prediction = np.dot(x, theta) \n",
    "        error = prediction - y\n",
    "        cost = 1/(2*m) * np.dot(error.T, error)\n",
    "        past_costs.append(cost)\n",
    "        theta = theta - (alpha * (1/m) * np.dot(x.T, error))\n",
    "        past_thetas.append(theta)\n",
    "        \n",
    "    return past_thetas, past_costs\n"
   ]
  },
  {
   "cell_type": "markdown",
   "metadata": {},
   "source": [
    "# Taking Random Thetas initially and with 1 bias"
   ]
  },
  {
   "cell_type": "code",
   "execution_count": 305,
   "metadata": {},
   "outputs": [
    {
     "data": {
      "text/plain": [
       "array([[0.11668534],\n",
       "       [0.17822676],\n",
       "       [0.43545971],\n",
       "       [0.5250513 ],\n",
       "       [0.34166554],\n",
       "       [0.36007403]])"
      ]
     },
     "execution_count": 305,
     "metadata": {},
     "output_type": "execute_result"
    }
   ],
   "source": [
    "theta=np.random.rand(6,1)/\n",
    "theta"
   ]
  },
  {
   "cell_type": "markdown",
   "metadata": {},
   "source": [
    "# Calling Gradient Descent with 1000 iterations and learning rate= 0.02"
   ]
  },
  {
   "cell_type": "code",
   "execution_count": 327,
   "metadata": {},
   "outputs": [],
   "source": [
    "costs=[]\n",
    "theta,costs=gradient_descent(X,Y,theta,1000,0.02)"
   ]
  },
  {
   "cell_type": "code",
   "execution_count": 328,
   "metadata": {},
   "outputs": [
    {
     "data": {
      "text/plain": [
       "(6, 1)"
      ]
     },
     "execution_count": 328,
     "metadata": {},
     "output_type": "execute_result"
    }
   ],
   "source": [
    "theta=theta[-1]\n",
    "theta.shape"
   ]
  },
  {
   "cell_type": "markdown",
   "metadata": {},
   "source": [
    "# Learned Parameters"
   ]
  },
  {
   "cell_type": "code",
   "execution_count": 329,
   "metadata": {},
   "outputs": [
    {
     "name": "stdout",
     "output_type": "stream",
     "text": [
      "(6, 1)\n"
     ]
    },
    {
     "data": {
      "text/plain": [
       "array([[-2.33262644e-16],\n",
       "       [-3.63945226e-02],\n",
       "       [-5.08288193e-01],\n",
       "       [ 3.19647034e-01],\n",
       "       [-2.77685283e-01],\n",
       "       [-4.67199579e-01]])"
      ]
     },
     "execution_count": 329,
     "metadata": {},
     "output_type": "execute_result"
    }
   ],
   "source": [
    "#theta = np.expand_dims(theta, axis=0)\n",
    "print(theta.shape)\n",
    "cost_new=np.asarray(costs)\n",
    "cost_new=cost_new[:,:,0]\n",
    "theta"
   ]
  },
  {
   "cell_type": "markdown",
   "metadata": {},
   "source": [
    "# Cost Function Looks Like this"
   ]
  },
  {
   "cell_type": "code",
   "execution_count": 341,
   "metadata": {},
   "outputs": [
    {
     "data": {
      "image/png": "[encoded data removed]",
      "text/plain": [
       "<Figure size 432x288 with 1 Axes>"
      ]
     },
     "metadata": {
      "needs_background": "light"
     },
     "output_type": "display_data"
    },
    {
     "data": {
      "text/plain": [
       "array([2.08784933])"
      ]
     },
     "execution_count": 341,
     "metadata": {},
     "output_type": "execute_result"
    }
   ],
   "source": [
    "plt.title('Cost Function J')\n",
    "plt.xlabel('No. of iterations')\n",
    "plt.ylabel('Cost')\n",
    "plt.plot(cost_new,'o')\n",
    "plt.show()\n",
    "cost_new[-1]"
   ]
  },
  {
   "cell_type": "markdown",
   "metadata": {},
   "source": [
    "# Testing the learned parameters"
   ]
  },
  {
   "cell_type": "code",
   "execution_count": 342,
   "metadata": {},
   "outputs": [],
   "source": [
    "# Testing\n",
    "data_test=pd.read_csv('data_carsmall_test.csv')"
   ]
  },
  {
   "cell_type": "code",
   "execution_count": 343,
   "metadata": {},
   "outputs": [
    {
     "data": {
      "text/html": [
       "<div>\n",
       "<style scoped>\n",
       "    .dataframe tbody tr th:only-of-type {\n",
       "        vertical-align: middle;\n",
       "    }\n",
       "\n",
       "    .dataframe tbody tr th {\n",
       "        vertical-align: top;\n",
       "    }\n",
       "\n",
       "    .dataframe thead th {\n",
       "        text-align: right;\n",
       "    }\n",
       "</style>\n",
       "<table border=\"1\" class=\"dataframe\">\n",
       "  <thead>\n",
       "    <tr style=\"text-align: right;\">\n",
       "      <th></th>\n",
       "      <th>X1</th>\n",
       "      <th>X2</th>\n",
       "      <th>X3</th>\n",
       "      <th>X4</th>\n",
       "      <th>X5</th>\n",
       "      <th>Y</th>\n",
       "    </tr>\n",
       "  </thead>\n",
       "  <tbody>\n",
       "    <tr>\n",
       "      <th>0</th>\n",
       "      <td>17.5</td>\n",
       "      <td>4</td>\n",
       "      <td>133</td>\n",
       "      <td>115.0</td>\n",
       "      <td>3090</td>\n",
       "      <td>NaN</td>\n",
       "    </tr>\n",
       "    <tr>\n",
       "      <th>1</th>\n",
       "      <td>11.5</td>\n",
       "      <td>8</td>\n",
       "      <td>350</td>\n",
       "      <td>165.0</td>\n",
       "      <td>4142</td>\n",
       "      <td>NaN</td>\n",
       "    </tr>\n",
       "    <tr>\n",
       "      <th>2</th>\n",
       "      <td>11.0</td>\n",
       "      <td>8</td>\n",
       "      <td>351</td>\n",
       "      <td>153.0</td>\n",
       "      <td>4034</td>\n",
       "      <td>NaN</td>\n",
       "    </tr>\n",
       "    <tr>\n",
       "      <th>3</th>\n",
       "      <td>10.5</td>\n",
       "      <td>8</td>\n",
       "      <td>383</td>\n",
       "      <td>175.0</td>\n",
       "      <td>4166</td>\n",
       "      <td>NaN</td>\n",
       "    </tr>\n",
       "    <tr>\n",
       "      <th>4</th>\n",
       "      <td>11.0</td>\n",
       "      <td>8</td>\n",
       "      <td>360</td>\n",
       "      <td>175.0</td>\n",
       "      <td>3850</td>\n",
       "      <td>NaN</td>\n",
       "    </tr>\n",
       "    <tr>\n",
       "      <th>5</th>\n",
       "      <td>8.0</td>\n",
       "      <td>8</td>\n",
       "      <td>302</td>\n",
       "      <td>140.0</td>\n",
       "      <td>3353</td>\n",
       "      <td>NaN</td>\n",
       "    </tr>\n",
       "    <tr>\n",
       "      <th>6</th>\n",
       "      <td>20.5</td>\n",
       "      <td>4</td>\n",
       "      <td>151</td>\n",
       "      <td>NaN</td>\n",
       "      <td>3035</td>\n",
       "      <td>23.0</td>\n",
       "    </tr>\n",
       "  </tbody>\n",
       "</table>\n",
       "</div>"
      ],
      "text/plain": [
       "     X1  X2   X3     X4    X5     Y\n",
       "0  17.5   4  133  115.0  3090   NaN\n",
       "1  11.5   8  350  165.0  4142   NaN\n",
       "2  11.0   8  351  153.0  4034   NaN\n",
       "3  10.5   8  383  175.0  4166   NaN\n",
       "4  11.0   8  360  175.0  3850   NaN\n",
       "5   8.0   8  302  140.0  3353   NaN\n",
       "6  20.5   4  151    NaN  3035  23.0"
      ]
     },
     "execution_count": 343,
     "metadata": {},
     "output_type": "execute_result"
    }
   ],
   "source": [
    "data_test"
   ]
  },
  {
   "cell_type": "code",
   "execution_count": 344,
   "metadata": {},
   "outputs": [
    {
     "name": "stdout",
     "output_type": "stream",
     "text": [
      "549.1609318996416 1131.1092291298783 23.725806451612904 8.035377465701439\n"
     ]
    }
   ],
   "source": [
    "print(m_x, s_x, m_y, s_y)"
   ]
  },
  {
   "cell_type": "code",
   "execution_count": 345,
   "metadata": {},
   "outputs": [],
   "source": [
    "# Normalizing X vector first and then finding out Y"
   ]
  },
  {
   "cell_type": "code",
   "execution_count": 346,
   "metadata": {},
   "outputs": [],
   "source": [
    "X_test=np.ones([6,6])\n",
    "for i in range(6):\n",
    "    for j in range(1,6):\n",
    "        X_test[i][j]=((data_test.iloc[i][data_test.columns[j-1]])-m_x )/s_x\n",
    "        "
   ]
  },
  {
   "cell_type": "markdown",
   "metadata": {},
   "source": [
    "# Normalized X_test"
   ]
  },
  {
   "cell_type": "code",
   "execution_count": 347,
   "metadata": {},
   "outputs": [
    {
     "data": {
      "text/plain": [
       "array([[ 1.        , -0.470035  , -0.48197019, -0.36792285, -0.38383643,\n",
       "         2.24632511],\n",
       "       [ 1.        , -0.47533953, -0.47843384, -0.17607577, -0.33963204,\n",
       "         3.1763856 ],\n",
       "       [ 1.        , -0.47578158, -0.47843384, -0.17519169, -0.35024109,\n",
       "         3.08090411],\n",
       "       [ 1.        , -0.47622362, -0.47843384, -0.14690087, -0.33079116,\n",
       "         3.19760371],\n",
       "       [ 1.        , -0.47578158, -0.47843384, -0.16723489, -0.33079116,\n",
       "         2.91823193],\n",
       "       [ 1.        , -0.47843384, -0.47843384, -0.21851199, -0.36173424,\n",
       "         2.47884024]])"
      ]
     },
     "execution_count": 347,
     "metadata": {},
     "output_type": "execute_result"
    }
   ],
   "source": [
    "X_test"
   ]
  },
  {
   "cell_type": "code",
   "execution_count": 348,
   "metadata": {},
   "outputs": [
    {
     "name": "stdout",
     "output_type": "stream",
     "text": [
      "(6, 6)\n",
      "(6, 1)\n"
     ]
    }
   ],
   "source": [
    "print(X_test.shape)\n",
    "print(theta.shape)"
   ]
  },
  {
   "cell_type": "code",
   "execution_count": 349,
   "metadata": {},
   "outputs": [
    {
     "data": {
      "text/plain": [
       "array([[-0.79841541],\n",
       "       [-1.18549527],\n",
       "       [-1.13764169],\n",
       "       [-1.1885055 ],\n",
       "       [-1.06449892],\n",
       "       [-0.86691691]])"
      ]
     },
     "execution_count": 349,
     "metadata": {},
     "output_type": "execute_result"
    }
   ],
   "source": [
    "pred=np.dot(X_test,theta)\n",
    "pred"
   ]
  },
  {
   "cell_type": "markdown",
   "metadata": {},
   "source": [
    "# Denormalizing the output"
   ]
  },
  {
   "cell_type": "code",
   "execution_count": 350,
   "metadata": {},
   "outputs": [],
   "source": [
    "pred=pred*s_y +m_y"
   ]
  },
  {
   "cell_type": "code",
   "execution_count": 351,
   "metadata": {},
   "outputs": [
    {
     "data": {
      "text/plain": [
       "array([[17.31023726],\n",
       "       [14.19990448],\n",
       "       [14.58442603],\n",
       "       [14.17571617],\n",
       "       [15.17215585],\n",
       "       [16.75980186]])"
      ]
     },
     "execution_count": 351,
     "metadata": {},
     "output_type": "execute_result"
    }
   ],
   "source": [
    "pred"
   ]
  },
  {
   "cell_type": "code",
   "execution_count": null,
   "metadata": {},
   "outputs": [],
   "source": []
  }
 ],
 "metadata": {
  "kernelspec": {
   "display_name": "Python 3",
   "language": "python",
   "name": "python3"
  },
  "language_info": {
   "codemirror_mode": {
    "name": "ipython",
    "version": 3
   },
   "file_extension": ".py",
   "mimetype": "text/x-python",
   "name": "python",
   "nbconvert_exporter": "python",
   "pygments_lexer": "ipython3",
   "version": "3.7.1"
  }
 },
 "nbformat": 4,
 "nbformat_minor": 2
}
